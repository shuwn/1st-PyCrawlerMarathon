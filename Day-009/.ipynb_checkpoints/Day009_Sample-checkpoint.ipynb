{
 "cells": [
  {
   "cell_type": "markdown",
   "metadata": {},
   "source": [
    "# 範例\n",
    "\n",
    "以正確的副檔名下載網頁中的圖片\n",
    "範例網頁:https://www.ptt.cc/bbs/Beauty/M.1574854555.A.E5C.html\n",
    "\n",
    "Note：因為 PTT 會詢問「是否滿 18 歲」，這邊可以用 cookies 繞過\n",
    "參考：https://2.python-requests.org/en/master/\n",
    "`requests.get(URL, cookies={'over18': '1'}`"
   ]
  },
  {
   "cell_type": "code",
   "execution_count": 1,
   "metadata": {},
   "outputs": [],
   "source": [
    "import requests\n",
    "import os\n",
    "\n",
    "from bs4 import BeautifulSoup\n",
    "from PIL import Image"
   ]
  },
  {
   "cell_type": "code",
   "execution_count": 2,
   "metadata": {},
   "outputs": [],
   "source": [
    "url = 'https://www.ptt.cc/bbs/Beauty/M.1574854555.A.E5C.html'\n",
    "\n",
    "# Note：因為 PTT 會詢問「是否滿 18 歲」，這邊可以用 cookies 繞過\n",
    "# cookies\": {\"cookies_are\": \"working\"}\n",
    "resp = requests.get(url, cookies={'over18': '1'})\n",
    "soup = BeautifulSoup(resp.text)"
   ]
  },
  {
   "cell_type": "code",
   "execution_count": 3,
   "metadata": {},
   "outputs": [
    {
     "data": {
      "text/plain": [
       "[<a href=\"https://www.oricon.co.jp/special/53912/\" rel=\"nofollow\" target=\"_blank\">https://www.oricon.co.jp/special/53912/</a>,\n",
       " <a href=\"https://i.imgur.com/Yvqa9MC.jpg\" rel=\"nofollow\" target=\"_blank\">https://i.imgur.com/Yvqa9MC.jpg</a>,\n",
       " <a href=\"https://i.imgur.com/4aqPUFf.jpg\" rel=\"nofollow\" target=\"_blank\">https://i.imgur.com/4aqPUFf.jpg</a>,\n",
       " <a href=\"https://i.imgur.com/hG9seBk.jpg\" rel=\"nofollow\" target=\"_blank\">https://i.imgur.com/hG9seBk.jpg</a>,\n",
       " <a href=\"https://i.imgur.com/2M5b3z4.jpg\" rel=\"nofollow\" target=\"_blank\">https://i.imgur.com/2M5b3z4.jpg</a>,\n",
       " <a href=\"https://i.imgur.com/ncyh1pY.jpg\" rel=\"nofollow\" target=\"_blank\">https://i.imgur.com/ncyh1pY.jpg</a>,\n",
       " <a href=\"https://i.imgur.com/Z8L1vqU.jpg\" rel=\"nofollow\" target=\"_blank\">https://i.imgur.com/Z8L1vqU.jpg</a>,\n",
       " <a href=\"https://i.imgur.com/tJyl8gf.jpg\" rel=\"nofollow\" target=\"_blank\">https://i.imgur.com/tJyl8gf.jpg</a>,\n",
       " <a href=\"https://i.imgur.com/hwry1vC.jpg\" rel=\"nofollow\" target=\"_blank\">https://i.imgur.com/hwry1vC.jpg</a>,\n",
       " <a href=\"https://i.imgur.com/WaPmVsl.jpg\" rel=\"nofollow\" target=\"_blank\">https://i.imgur.com/WaPmVsl.jpg</a>,\n",
       " <a href=\"https://i.imgur.com/u3a9fBO.jpg\" rel=\"nofollow\" target=\"_blank\">http://i.imgur.com/u3a9fBO.jpg</a>,\n",
       " <a href=\"https://www.ptt.cc/bbs/Beauty/M.1574854555.A.E5C.html\" rel=\"nofollow\" target=\"_blank\"><span class=\"f2\">https://www.ptt.cc/bbs/Beauty/M.1574854555.A.E5C.html</span></a>]"
      ]
     },
     "execution_count": 3,
     "metadata": {},
     "output_type": "execute_result"
    }
   ],
   "source": [
    "# 決定要儲存的資料夾\n",
    "output_dir = 'downloads'\n",
    "\n",
    "# 假如資料夾不存在就新增一個資料夾\n",
    "if not os.path.exists(output_dir):\n",
    "    os.makedirs(output_dir)\n",
    "\n",
    "# 定位所有圖片的 tag\n",
    "# 參考：http://bit.ly/2WlOMdY\n",
    "# soup.find('p')            # 回傳第一個被 <p> </p> 所包圍的區塊\n",
    "# # <p id=\"p1\">我是段落一</p>\n",
    "\n",
    "# soup.find('p', id='p2')   # 回傳第一個被 <p> </p> 所包圍的區塊且 id=\"p2\"\n",
    "# # <p id=\"p2\" style=\"\">我是段落二</p>\n",
    "\n",
    "# soup.find(id='p2')        # 回傳第一個 id=\"p2\" 的區塊\n",
    "# # <p id=\"p2\" style=\"\">我是段落二</p>\n",
    "\n",
    "# soup.find_all('p')        # 回傳所有被 <p> </p> 所包圍的區塊\n",
    "# # [<p id=\"p1\">我是段落一</p>, <p id=\"p2\" style=\"\">我是段落二</p>]\n",
    "\n",
    "# soup.find('h1', 'large')  # 找尋第一個 <h1> 區塊且 class=\"large\"\n",
    "# # <h1 class=\"large\" style=\"\">我是變色且置中的抬頭</h1>\n",
    "\n",
    "# findChildren: 找到所有的子節點\n",
    "# 參考：http://bit.ly/2w3tqHO\n",
    "# Soup 是一個解析過的樹狀結構，正常情況你對它 find ，會去找地下所有的節點。recursive=False 時，只會尋找你找的物件的下一層，而不會往更下層尋找。\n",
    "# 調用tag的 find_all() 方法時,Beautiful Soup會檢索當前tag的所有子孫節點,如果只想搜索tag的直接子節點,可以使用參數 recursive=False，預設為 True\n",
    "image_tags_False = soup.find(id='main-content').findChildren('a', recursive=False)\n",
    "image_tags_False"
   ]
  },
  {
   "cell_type": "code",
   "execution_count": 4,
   "metadata": {},
   "outputs": [
    {
     "data": {
      "text/plain": [
       "[<a href=\"https://www.oricon.co.jp/special/53912/\" rel=\"nofollow\" target=\"_blank\">https://www.oricon.co.jp/special/53912/</a>,\n",
       " <a href=\"https://i.imgur.com/Yvqa9MC.jpg\" rel=\"nofollow\" target=\"_blank\">https://i.imgur.com/Yvqa9MC.jpg</a>,\n",
       " <a href=\"//imgur.com/Yvqa9MC\"></a>,\n",
       " <a href=\"https://i.imgur.com/4aqPUFf.jpg\" rel=\"nofollow\" target=\"_blank\">https://i.imgur.com/4aqPUFf.jpg</a>,\n",
       " <a href=\"//imgur.com/4aqPUFf\"></a>,\n",
       " <a href=\"https://i.imgur.com/hG9seBk.jpg\" rel=\"nofollow\" target=\"_blank\">https://i.imgur.com/hG9seBk.jpg</a>,\n",
       " <a href=\"//imgur.com/hG9seBk\"></a>,\n",
       " <a href=\"https://i.imgur.com/2M5b3z4.jpg\" rel=\"nofollow\" target=\"_blank\">https://i.imgur.com/2M5b3z4.jpg</a>,\n",
       " <a href=\"//imgur.com/2M5b3z4\"></a>,\n",
       " <a href=\"https://i.imgur.com/ncyh1pY.jpg\" rel=\"nofollow\" target=\"_blank\">https://i.imgur.com/ncyh1pY.jpg</a>,\n",
       " <a href=\"//imgur.com/ncyh1pY\"></a>,\n",
       " <a href=\"https://i.imgur.com/Z8L1vqU.jpg\" rel=\"nofollow\" target=\"_blank\">https://i.imgur.com/Z8L1vqU.jpg</a>,\n",
       " <a href=\"//imgur.com/Z8L1vqU\"></a>,\n",
       " <a href=\"https://i.imgur.com/tJyl8gf.jpg\" rel=\"nofollow\" target=\"_blank\">https://i.imgur.com/tJyl8gf.jpg</a>,\n",
       " <a href=\"//imgur.com/tJyl8gf\"></a>,\n",
       " <a href=\"https://i.imgur.com/hwry1vC.jpg\" rel=\"nofollow\" target=\"_blank\">https://i.imgur.com/hwry1vC.jpg</a>,\n",
       " <a href=\"//imgur.com/hwry1vC\"></a>,\n",
       " <a href=\"https://i.imgur.com/WaPmVsl.jpg\" rel=\"nofollow\" target=\"_blank\">https://i.imgur.com/WaPmVsl.jpg</a>,\n",
       " <a href=\"//imgur.com/WaPmVsl\"></a>,\n",
       " <a href=\"https://i.imgur.com/u3a9fBO.jpg\" rel=\"nofollow\" target=\"_blank\">http://i.imgur.com/u3a9fBO.jpg</a>,\n",
       " <a href=\"//imgur.com/u3a9fBO\"></a>,\n",
       " <a href=\"https://www.ptt.cc/bbs/Beauty/M.1574854555.A.E5C.html\" rel=\"nofollow\" target=\"_blank\"><span class=\"f2\">https://www.ptt.cc/bbs/Beauty/M.1574854555.A.E5C.html</span></a>]"
      ]
     },
     "execution_count": 4,
     "metadata": {},
     "output_type": "execute_result"
    }
   ],
   "source": [
    "image_tags_True = soup.find(id='main-content').findChildren('a', recursive=True)\n",
    "image_tags_True"
   ]
  },
  {
   "cell_type": "code",
   "execution_count": 11,
   "metadata": {},
   "outputs": [
    {
     "name": "stdout",
     "output_type": "stream",
     "text": [
      "Yvqa9MC.jpg\n",
      "Save image downloads/Yvqa9MC.jpg.jpeg\n",
      "4aqPUFf.jpg\n",
      "Save image downloads/4aqPUFf.jpg.jpeg\n",
      "hG9seBk.jpg\n",
      "Save image downloads/hG9seBk.jpg.jpeg\n",
      "2M5b3z4.jpg\n",
      "Save image downloads/2M5b3z4.jpg.jpeg\n",
      "ncyh1pY.jpg\n",
      "Save image downloads/ncyh1pY.jpg.jpeg\n",
      "Z8L1vqU.jpg\n",
      "Save image downloads/Z8L1vqU.jpg.jpeg\n",
      "tJyl8gf.jpg\n",
      "Save image downloads/tJyl8gf.jpg.jpeg\n",
      "hwry1vC.jpg\n",
      "Save image downloads/hwry1vC.jpg.jpeg\n",
      "WaPmVsl.jpg\n",
      "Save image downloads/WaPmVsl.jpg.jpeg\n",
      "u3a9fBO.jpg\n",
      "Save image downloads/u3a9fBO.jpg.jpeg\n"
     ]
    }
   ],
   "source": [
    "for img_tag in image_tags_False:\n",
    "    # 取得所有圖片在第三方服務的 id\n",
    "    # continue 強制跳出 ❮本次❯ 迴圈，繼續進入下一圈\n",
    "    if 'imgur' not in img_tag['href']:\n",
    "        continue\n",
    "    # 將網址分割，取得「倒數第一個片段」\n",
    "    img_id = img_tag['href'].split('/')[-1]\n",
    "    print(img_id)\n",
    "    # 組合圖片而非網站的網址\n",
    "    img_url = 'https://i.imgur.com/{}'.format(img_id)\n",
    "    # 對圖片送出請求\n",
    "    with requests.get(img_url, stream=True) as r:\n",
    "        r.raise_for_status()\n",
    "        # 檢查圖片副檔名\n",
    "        img = Image.open(r.raw)\n",
    "        img_savename = '{outdir}/{img_id}.{img_ext}'.format(\n",
    "            # lower() 轉換字元串中所有大寫字元為小寫。\n",
    "            outdir=output_dir, img_id=img_id, img_ext=img.format.lower())\n",
    "        img.save(img_savename)\n",
    "        print('Save image {}'.format(img_savename))"
   ]
  },
  {
   "cell_type": "code",
   "execution_count": 17,
   "metadata": {},
   "outputs": [
    {
     "ename": "TypeError",
     "evalue": "'str' object cannot be interpreted as an integer",
     "output_type": "error",
     "traceback": [
      "\u001b[0;31m---------------------------------------------------------------------------\u001b[0m",
      "\u001b[0;31mTypeError\u001b[0m                                 Traceback (most recent call last)",
      "\u001b[0;32m<ipython-input-17-4810121959e8>\u001b[0m in \u001b[0;36m<module>\u001b[0;34m\u001b[0m\n\u001b[1;32m      5\u001b[0m         \u001b[0;32mcontinue\u001b[0m\u001b[0;34m\u001b[0m\u001b[0;34m\u001b[0m\u001b[0m\n\u001b[1;32m      6\u001b[0m     \u001b[0;31m# 前面沒有把副檔名去掉，造成儲存錯誤，可以修改如下\u001b[0m\u001b[0;34m\u001b[0m\u001b[0;34m\u001b[0m\u001b[0;34m\u001b[0m\u001b[0m\n\u001b[0;32m----> 7\u001b[0;31m     \u001b[0mimg_id\u001b[0m \u001b[0;34m=\u001b[0m \u001b[0mimg_tag\u001b[0m\u001b[0;34m[\u001b[0m\u001b[0;34m'href'\u001b[0m\u001b[0;34m]\u001b[0m\u001b[0;34m.\u001b[0m\u001b[0msplit\u001b[0m\u001b[0;34m(\u001b[0m\u001b[0;34m'/'\u001b[0m\u001b[0;34m,\u001b[0m \u001b[0;34m'.'\u001b[0m\u001b[0;34m)\u001b[0m\u001b[0;34m[\u001b[0m\u001b[0;34m-\u001b[0m\u001b[0;36m1\u001b[0m\u001b[0;34m]\u001b[0m\u001b[0;34m\u001b[0m\u001b[0;34m\u001b[0m\u001b[0m\n\u001b[0m\u001b[1;32m      8\u001b[0m \u001b[0;31m#     img_recheck_id = img_id.split('.')[0]\u001b[0m\u001b[0;34m\u001b[0m\u001b[0;34m\u001b[0m\u001b[0;34m\u001b[0m\u001b[0m\n\u001b[1;32m      9\u001b[0m     \u001b[0mprint\u001b[0m\u001b[0;34m(\u001b[0m\u001b[0mimg_id\u001b[0m\u001b[0;34m)\u001b[0m\u001b[0;34m\u001b[0m\u001b[0;34m\u001b[0m\u001b[0m\n",
      "\u001b[0;31mTypeError\u001b[0m: 'str' object cannot be interpreted as an integer"
     ]
    }
   ],
   "source": [
    "for img_tag in image_tags_False:\n",
    "    # 取得所有圖片在第三方服務的 id\n",
    "    # continue 強制跳出 ❮本次❯ 迴圈，繼續進入下一圈\n",
    "    if 'imgur' not in img_tag['href']:\n",
    "        continue\n",
    "    # 前面沒有把副檔名去掉，造成儲存錯誤，可以修改如下\n",
    "    img_id = img_tag['href'].split('/', '.')[-1]\n",
    "#     img_recheck_id = img_id.split('.')[0]\n",
    "    print(img_id)\n",
    "#     # 組合圖片而非網站的網址\n",
    "#     img_url = 'https://i.imgur.com/{}.jpg'.format(img_recheck_id)\n",
    "#     # 對圖片送出請求\n",
    "#     with requests.get(img_url, stream=True) as r:\n",
    "#         r.raise_for_status()\n",
    "#         # 檢查圖片副檔名\n",
    "#         img = Image.open(r.raw)\n",
    "#         img_savename = '{outdir}/{img_id}.{img_ext}'.format(\n",
    "#             # lower() 轉換字元串中所有大寫字元為小寫。\n",
    "#             outdir=output_dir, img_id=img_recheck_id, img_ext=img.format.lower())\n",
    "#         img.save(img_savename)\n",
    "#         print('Save image {}'.format(img_savename))"
   ]
  },
  {
   "cell_type": "code",
   "execution_count": null,
   "metadata": {},
   "outputs": [],
   "source": []
  }
 ],
 "metadata": {
  "kernelspec": {
   "display_name": "Python 3",
   "language": "python",
   "name": "python3"
  },
  "language_info": {
   "codemirror_mode": {
    "name": "ipython",
    "version": 3
   },
   "file_extension": ".py",
   "mimetype": "text/x-python",
   "name": "python",
   "nbconvert_exporter": "python",
   "pygments_lexer": "ipython3",
   "version": "3.7.6"
  }
 },
 "nbformat": 4,
 "nbformat_minor": 4
}
