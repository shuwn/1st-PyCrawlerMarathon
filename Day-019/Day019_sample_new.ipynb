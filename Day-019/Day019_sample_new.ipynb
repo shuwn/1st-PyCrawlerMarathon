{
 "cells": [
  {
   "cell_type": "markdown",
   "metadata": {},
   "source": [
    "# 動態網頁爬蟲 - 使用 Selenium\n",
    "\n",
    "* 了解 Selenium 用於動態網頁爬蟲的原理\n",
    "* 能夠使用 Selenium 撰寫動態網頁爬蟲"
   ]
  },
  {
   "cell_type": "markdown",
   "metadata": {},
   "source": [
    "## 使用 Requests 爬蟲"
   ]
  },
  {
   "cell_type": "markdown",
   "metadata": {},
   "source": [
    "#### import requests\n",
    "from bs4 import BeautifulSoup\n",
    "\n",
    "r = requests.get(\"https://hahow.in/courses\")\n",
    "d = BeautifulSoup(r.text, 'lxml')\n",
    "\n",
    "d.body.text\n",
    "# 只會爬蟲 JavaScript 語法，沒有網頁內容中的資料"
   ]
  },
  {
   "cell_type": "markdown",
   "metadata": {},
   "source": [
    "## 動態模擬瀏覽器行為"
   ]
  },
  {
   "cell_type": "code",
   "execution_count": 1,
   "metadata": {},
   "outputs": [],
   "source": [
    "from selenium import webdriver # 這邊設定會去讀取我們放在相同目錄下的 driver 檔案\n",
    "from selenium.webdriver.support.ui import Select\n",
    "from bs4 import BeautifulSoup"
   ]
  },
  {
   "cell_type": "markdown",
   "metadata": {},
   "source": [
    "# chromedriver\n",
    " 1.  安裝位置在  /Users/shuwn/opt/anaconda3/bin/chromedriver"
   ]
  },
  {
   "cell_type": "code",
   "execution_count": 2,
   "metadata": {},
   "outputs": [],
   "source": [
    "browser = webdriver.Chrome(executable_path='chromedriver')\n",
    "browser.get(\"https://hahow.in/courses\")"
   ]
  },
  {
   "cell_type": "code",
   "execution_count": 3,
   "metadata": {},
   "outputs": [],
   "source": [
    "# # 取得資料（這裡的資料因為網頁還沒讀取完畢，就被關掉了，所以資料並沒有下載完成）\n",
    "# html_source = browser.page_source\n",
    "# soup = BeautifulSoup(html_source, 'html.parser')\n",
    "# print(soup)"
   ]
  },
  {
   "cell_type": "code",
   "execution_count": 4,
   "metadata": {},
   "outputs": [],
   "source": [
    "# 解法一、使用 sleep\n",
    "# 設置等待時間可以確保資料讀取出來，但是一遇到讀取時間超過設定值就會出錯\n",
    "# from time import sleep\n",
    "# sleep(3) # 強制等待3秒再執行下一步"
   ]
  },
  {
   "cell_type": "code",
   "execution_count": 5,
   "metadata": {},
   "outputs": [],
   "source": [
    "# 解法二、隱式等待\n",
    "# 隱式等待是等頁面加載，不是等元素\n",
    "# 隱性等待即設置最長等待時間，如果頁面加載完成或者等待時間到才執行下一步，一般只要在初始化時設置一次即可。\n",
    "# 隱形等待是設置了一個最長等待時間，如果在規定時間內網頁加載完成，則執行下一步，否則一直等到時間截止，然後執行下一步。\n",
    "# 注意這裡有一個弊端，那就是程序會一直等待整個頁面加載完成，也就是一般情況下你看到瀏覽器標籤欄那個小圈不再轉，才會執行下一步\n",
    "# 但有時候頁面想要的元素早就在加載完成了，但是因為個別js之類的東西特別慢，仍得等到頁面全部完成才能執行下一步，我想等我要的元素出來之後就下一步怎麼辦？\n",
    "# 這就要看selenium提供的另一種等待方式——顯性等待wait了\n",
    "# 另外這也有一個問題，有時候會誤判為提早讀取完成就會直接進入下一步\n",
    "# from selenium import webdriver\n",
    "# browser.implicitly_wait(3)  # 隱性等待，最長等3秒，單位:秒"
   ]
  },
  {
   "cell_type": "code",
   "execution_count": 6,
   "metadata": {},
   "outputs": [
    {
     "data": {
      "text/plain": [
       "<selenium.webdriver.remote.webelement.WebElement (session=\"39ce185fcc382a97c2a9983ced38fb75\", element=\"cefc7fa0-2a4e-4726-b16a-5c0d53b89266\")>"
      ]
     },
     "execution_count": 6,
     "metadata": {},
     "output_type": "execute_result"
    }
   ],
   "source": [
    "# 解法三、顯式等待\n",
    "# 一個顯式等待是你定義的一段代碼，用於等待某個條件發生然後再繼續執行後續代碼。顯式等待是等元素加載\n",
    "\n",
    "from selenium import webdriver\n",
    "from selenium.webdriver.common.by import By\n",
    "from selenium.webdriver.support.ui import WebDriverWait\n",
    "from selenium.webdriver.support import expected_conditions as EC\n",
    "cheese = browser.find_element_by_class_name('list-container')\n",
    "# try:\n",
    "#     element = WebDriverWait(browser, 10).until(EC.presence_of_element_located((By.ID, \"meta-description\")))\n",
    "# finally:\n",
    "#     browser.quit()"
   ]
  },
  {
   "cell_type": "markdown",
   "metadata": {},
   "source": [
    "# 顯示解法定位方法\n",
    "https://selenium-python-zh.readthedocs.io/en/latest/locating-elements.html#class-name"
   ]
  },
  {
   "cell_type": "code",
   "execution_count": 7,
   "metadata": {
    "scrolled": true
   },
   "outputs": [
    {
     "data": {
      "text/plain": [
       "'職場必備的 Excel 關鍵技法－進階'"
      ]
     },
     "execution_count": 7,
     "metadata": {},
     "output_type": "execute_result"
    }
   ],
   "source": [
    "\n",
    "# 取得資料\n",
    "html_source = browser.page_source\n",
    "soup = BeautifulSoup(html_source, 'html.parser')\n",
    "browser.close()\n",
    "soup.find('h4', class_='title').text\n",
    "# 改用 selenium 就可以正常取得"
   ]
  },
  {
   "cell_type": "markdown",
   "metadata": {},
   "source": [
    "## 作業目標\n",
    "\n",
    "* 1. 請試著利用 Selenium 開啟 Google 網頁，不要關掉。\n",
    "* 2. 請利用剛剛開啟的瀏覽器，切換到 這個網址 網頁，取得內文。（URL: https://www.cupoy.com/clubnews/ai_tw/0000016E62FB84E4000000026375706F795F72656C656173654B5741535354434C5542/0000016F69B5DB8C000000266375706F795F72656C656173654B5741535354434C55424E455753 ）\n",
    "* 3. 將瀏覽器關閉\n"
   ]
  },
  {
   "cell_type": "code",
   "execution_count": null,
   "metadata": {},
   "outputs": [],
   "source": []
  }
 ],
 "metadata": {
  "kernelspec": {
   "display_name": "Python 3",
   "language": "python",
   "name": "python3"
  },
  "language_info": {
   "codemirror_mode": {
    "name": "ipython",
    "version": 3
   },
   "file_extension": ".py",
   "mimetype": "text/x-python",
   "name": "python",
   "nbconvert_exporter": "python",
   "pygments_lexer": "ipython3",
   "version": "3.7.7"
  }
 },
 "nbformat": 4,
 "nbformat_minor": 4
}
