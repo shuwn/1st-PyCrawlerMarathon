{
 "cells": [
  {
   "cell_type": "markdown",
   "metadata": {},
   "source": [
    "### API 資料串接 - 以 Dcard API 實作範例\n",
    "\n",
    "* 了解 Dcard API 使用方式與回傳內容\n",
    "* 撰寫程式存取 API 且解析 JSON 格式資料\n"
   ]
  },
  {
   "cell_type": "markdown",
   "metadata": {},
   "source": [
    "## 作業目標\n",
    "\n",
    "* 請利用 API: https://www.dcard.tw/_api/forums/pet/posts?popular=true 回答下列問題：\n",
    "\n",
    "1. 這個 API 一次會回傳幾筆資料？每一筆資料包含哪些欄位？\n",
    "2. 取出每一筆資料的「標題」、「貼文時間」、「留言人數」、「按讚人數」\n",
    "3. 計算熱門/非熱門文章的「平均留言人數」與「平均按讚人數」"
   ]
  },
  {
   "cell_type": "code",
   "execution_count": 1,
   "metadata": {},
   "outputs": [
    {
     "name": "stdout",
     "output_type": "stream",
     "text": [
      "30\n"
     ]
    }
   ],
   "source": [
    "# 1. 這個 API 一次會回傳幾筆資料？每一筆資料包含哪些欄位？\n",
    "\n",
    "import requests\n",
    "r = requests.get('https://www.dcard.tw/_api/forums/pet/posts?popular=true')\n",
    "response = r.text\n",
    "\n",
    "import json\n",
    "data = json.loads(response)\n",
    "\n",
    "print(len(data))"
   ]
  },
  {
   "cell_type": "code",
   "execution_count": 2,
   "metadata": {},
   "outputs": [
    {
     "name": "stdout",
     "output_type": "stream",
     "text": [
      "這隻柯基的主人拜託拜託\n",
      "2020-03-11T00:29:32.491Z\n",
      "24\n",
      "313\n",
      "#海水 你該怎麼養小丑魚？👏\n",
      "2020-03-11T06:28:13.427Z\n",
      "19\n",
      "198\n",
      "在她去當小天使之後來了兩隻小可愛\n",
      "2020-03-11T06:10:21.013Z\n",
      "6\n",
      "58\n",
      "在美國的美國短毛貓-沙龍照\n",
      "2020-03-11T02:40:58.755Z\n",
      "1\n",
      "41\n",
      "第一次發文-自我介紹\n",
      "2020-03-11T00:43:34.866Z\n",
      "11\n",
      "40\n",
      "虎斑喵\n",
      "2020-03-11T06:28:21.630Z\n",
      "7\n",
      "33\n",
      "寵物溝通師跟魚溝通？\n",
      "2020-03-11T04:28:37.009Z\n",
      "18\n",
      "30\n",
      "貓咪版- 想見你\n",
      "2020-03-11T13:47:59.685Z\n",
      "0\n",
      "26\n",
      "帶我家的貓主子遊日本！\n",
      "2020-03-11T14:23:26.662Z\n",
      "18\n",
      "25\n",
      "刺蝟🦔跟兔子🐰也可以當朋友❤️\n",
      "2020-03-11T15:06:24.914Z\n",
      "4\n",
      "23\n",
      "小朋友上樓梯\n",
      "2020-03-11T12:25:21.591Z\n",
      "2\n",
      "22\n",
      "#寵物#手繪 貓苗喵咪喵喵喵💛\n",
      "2020-03-11T16:46:10.311Z\n",
      "8\n",
      "21\n",
      "通緝可愛老鼠屋\n",
      "2020-03-11T06:32:56.368Z\n",
      "3\n",
      "17\n",
      "#圖多 三隻小貓國\n",
      "2020-03-11T16:28:06.704Z\n",
      "3\n",
      "16\n",
      "你知道喜德嗎？\n",
      "2020-03-11T17:36:44.285Z\n",
      "4\n",
      "15\n",
      "鼠寶籠子自己做🐹\n",
      "2020-03-11T18:16:32.512Z\n",
      "9\n",
      "12\n",
      "有尾巴の柯基\n",
      "2020-03-11T16:58:06.217Z\n",
      "2\n",
      "12\n",
      "有貓真好\n",
      "2020-03-11T19:24:18.376Z\n",
      "10\n",
      "11\n",
      "犬種介紹特輯10 狗界名模 阿富汗獵犬~\n",
      "2020-03-11T16:04:56.805Z\n",
      "0\n",
      "11\n",
      "柴柴成長\n",
      "2020-03-11T00:09:26.335Z\n",
      "2\n",
      "11\n",
      "欸奴才妳為什麼要趴在地板上\n",
      "2020-03-12T04:50:01.630Z\n",
      "0\n",
      "10\n",
      "這個是真的嗎\n",
      "2020-03-12T02:39:47.698Z\n",
      "1\n",
      "8\n",
      "怪物喵吉拉\n",
      "2020-03-12T03:20:12.996Z\n",
      "1\n",
      "7\n",
      "這真的是貓嗎？\n",
      "2020-03-11T12:20:27.066Z\n",
      "1\n",
      "7\n",
      "倉鼠磨指甲\n",
      "2020-03-11T13:54:26.090Z\n",
      "5\n",
      "6\n",
      "咪咪🐈自拍照😲\n",
      "2020-03-11T06:52:25.687Z\n",
      "0\n",
      "6\n",
      "兔\n",
      "2020-03-11T15:33:18.137Z\n",
      "1\n",
      "5\n",
      "倉鼠籠(台南市區或歸仁可面交)\n",
      "2020-03-11T02:27:37.067Z\n",
      "8\n",
      "5\n",
      "#圖#影#貓 吃飯睡覺打嘟嘟\n",
      "2020-03-12T06:38:07.074Z\n",
      "4\n",
      "4\n",
      "鼠視眈眈\n",
      "2020-03-12T05:44:45.270Z\n",
      "1\n",
      "4\n"
     ]
    }
   ],
   "source": [
    "# 2. 取出每一筆資料的「標題」、「貼文時間」、「留言人數」、「按讚人數」\n",
    "\n",
    "for d in data:\n",
    "    print(d['title'])\n",
    "    print(d['createdAt'])\n",
    "    print(d['commentCount'])\n",
    "    print(d['likeCount'])"
   ]
  },
  {
   "cell_type": "code",
   "execution_count": 3,
   "metadata": {},
   "outputs": [
    {
     "name": "stdout",
     "output_type": "stream",
     "text": [
      "5.766666666666667 33.233333333333334\n",
      "1.8333333333333333 1.2333333333333334\n"
     ]
    }
   ],
   "source": [
    "# 3. 計算熱門/非熱門文章的「平均留言人數」與「平均按讚人數」\n",
    "\n",
    "commentCount = 0\n",
    "likeCount = 0\n",
    "for d in data:\n",
    "    commentCount += d['commentCount']\n",
    "    likeCount += d['likeCount']\n",
    "\n",
    "print(commentCount/len(data), likeCount/len(data))\n",
    "\n",
    "r = requests.get('https://www.dcard.tw/_api/forums/job/posts?popular=false')\n",
    "response = r.text\n",
    "data = json.loads(response)\n",
    "commentCount = 0\n",
    "likeCount = 0\n",
    "for d in data:\n",
    "    commentCount += d['commentCount']\n",
    "    likeCount += d['likeCount']\n",
    "\n",
    "print(commentCount/len(data), likeCount/len(data))\n",
    "    "
   ]
  },
  {
   "cell_type": "code",
   "execution_count": null,
   "metadata": {},
   "outputs": [],
   "source": []
  }
 ],
 "metadata": {
  "kernelspec": {
   "display_name": "Python 3",
   "language": "python",
   "name": "python3"
  },
  "language_info": {
   "codemirror_mode": {
    "name": "ipython",
    "version": 3
   },
   "file_extension": ".py",
   "mimetype": "text/x-python",
   "name": "python",
   "nbconvert_exporter": "python",
   "pygments_lexer": "ipython3",
   "version": "3.7.6"
  }
 },
 "nbformat": 4,
 "nbformat_minor": 4
}
